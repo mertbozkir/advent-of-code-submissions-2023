{
 "cells": [
  {
   "cell_type": "code",
   "execution_count": 1,
   "metadata": {},
   "outputs": [
    {
     "name": "stderr",
     "output_type": "stream",
     "text": [
      "UsageError: Line magic function `%python` not found (But cell magic `%%python` exists, did you mean that instead?).\n"
     ]
    }
   ],
   "source": [
    "# Installing the related packages!\n",
    "\n",
    "%pip install --upgrade pymilvus langchain openai tiktoken GitPython python-dotenv"
   ]
  },
  {
   "cell_type": "code",
   "execution_count": 2,
   "metadata": {},
   "outputs": [
    {
     "data": {
      "text/plain": [
       "True"
      ]
     },
     "execution_count": 2,
     "metadata": {},
     "output_type": "execute_result"
    }
   ],
   "source": [
    "import dotenv\n",
    "\n",
    "# loading the environment variables of OpenAI, your token and uri for Milvus db!\n",
    "dotenv.load_dotenv()"
   ]
  },
  {
   "cell_type": "code",
   "execution_count": 3,
   "metadata": {},
   "outputs": [],
   "source": [
    "from git import Repo\n",
    "from langchain.document_loaders.generic import GenericLoader\n",
    "from langchain.document_loaders.parsers import LanguageParser\n",
    "from langchain.text_splitter import Language"
   ]
  },
  {
   "cell_type": "code",
   "execution_count": 4,
   "metadata": {},
   "outputs": [],
   "source": [
    "# Clone the pymilvus repository!\n",
    "repo_path = \"/Users/mertbozkir/Code/advent-of-code-submissions-2023/pymilvus\"\n",
    "repo = Repo.clone_from(\"https://github.com/milvus-io/pymilvus\", to_path=repo_path)"
   ]
  },
  {
   "cell_type": "code",
   "execution_count": 5,
   "metadata": {},
   "outputs": [
    {
     "data": {
      "text/plain": [
       "325"
      ]
     },
     "execution_count": 5,
     "metadata": {},
     "output_type": "execute_result"
    }
   ],
   "source": [
    "# Turning the .py code files into the documents thanks to langchain loader!\n",
    "loader = GenericLoader.from_filesystem(\n",
    "    repo_path + \"/pymilvus/\",\n",
    "    glob=\"**/*\",\n",
    "    suffixes=[\".py\"],\n",
    "    parser=LanguageParser(language=Language.PYTHON),\n",
    ")\n",
    "documents = loader.load()\n",
    "len(documents)"
   ]
  },
  {
   "cell_type": "code",
   "execution_count": 6,
   "metadata": {},
   "outputs": [
    {
     "data": {
      "text/plain": [
       "694"
      ]
     },
     "execution_count": 6,
     "metadata": {},
     "output_type": "execute_result"
    }
   ],
   "source": [
    "from langchain.text_splitter import RecursiveCharacterTextSplitter\n",
    "\n",
    "# and then we're leveraging Python splitter of langchain to split those python files proper way...\n",
    "\n",
    "python_splitter = RecursiveCharacterTextSplitter.from_language(\n",
    "    language=Language.PYTHON, chunk_size=2000, chunk_overlap=200\n",
    ")\n",
    "texts = python_splitter.split_documents(documents)\n",
    "len(texts)"
   ]
  },
  {
   "cell_type": "code",
   "execution_count": 8,
   "metadata": {},
   "outputs": [],
   "source": [
    "from langchain.embeddings.openai import OpenAIEmbeddings\n",
    "from langchain.vectorstores.milvus import Milvus\n",
    "import os\n",
    "\n",
    "\n",
    "# vector database initiation of Milvus! \n",
    "\n",
    "vector_db = Milvus.from_documents(\n",
    "    texts,\n",
    "    OpenAIEmbeddings(),\n",
    "    connection_args = {\n",
    "                \"uri\": os.environ[\"MILVUS_URI\"],\n",
    "                \"token\": os.environ[\"MILVUS_TOKEN\"], # API key as replacements for user and password\n",
    "                \"secure\": True\n",
    "            },\n",
    ")\n",
    "\n",
    "# Turning your Milvus vector database into retriever never get easier! 🏔️\n",
    "\n",
    "retriever = vector_db.as_retriever(\n",
    "    search_type=\"mmr\",  # Also test \"similarity\"\n",
    "    search_kwargs={\"k\": 8},\n",
    ")"
   ]
  },
  {
   "cell_type": "code",
   "execution_count": 9,
   "metadata": {},
   "outputs": [],
   "source": [
    "from langchain.chains import ConversationalRetrievalChain\n",
    "from langchain.chat_models import ChatOpenAI\n",
    "from langchain.memory import ConversationSummaryMemory\n",
    "\n",
    "# Chaining everything (memory, llm and retriever) and you're good to go!\n",
    "\n",
    "llm = ChatOpenAI(model_name=\"gpt-3.5-turbo\")\n",
    "memory = ConversationSummaryMemory(\n",
    "    llm=llm, memory_key=\"chat_history\", return_messages=True\n",
    ")\n",
    "qa = ConversationalRetrievalChain.from_llm(llm, retriever=retriever, memory=memory)"
   ]
  },
  {
   "cell_type": "code",
   "execution_count": 10,
   "metadata": {},
   "outputs": [
    {
     "data": {
      "text/plain": [
       "'To initialize a Milvus project in Python, you can use the `MilvusClient` class from the `pymilvus` library. Here\\'s an example of how to initialize a Milvus project:\\n\\n```python\\nfrom pymilvus import MilvusClient\\n\\n# Initialize a Milvus client\\nclient = MilvusClient(uri=\"http://localhost:19530\", user=\"\", password=\"\", db_name=\"\", token=\"\", timeout=None)\\n\\n# Create a collection\\nclient.create_collection(collection_name=\"my_collection\", dimension=128, primary_field_name=\"id\", id_type=\"int\", vector_field_name=\"vector\", metric_type=\"IP\")\\n```\\n\\nIn the example above, the `MilvusClient` is initialized with the following parameters:\\n- `uri`: The connection address to the Milvus instance. By default, it is set to \"http://localhost:19530\".\\n- `user`: The username for authentication. If not provided, it can be left empty.\\n- `password`: The password for authentication. If not provided, it can be left empty.\\n- `db_name`: The name of the database to use. If not provided, it can be left empty.\\n- `token`: An authentication token. If not provided, it can be left empty.\\n- `timeout`: The timeout for function calls. If not provided, it is set to `None`.\\n\\nThe `create_collection` method is used to create a collection in the Milvus project. It takes the following parameters:\\n- `collection_name`: The name of the collection to create.\\n- `dimension`: The dimension of the vector data to be stored in the collection.\\n- `primary_field_name`: The name of the primary key field. By default, it is set to \"id\".\\n- `id_type`: The type of the primary key field. It can be either \"int\" or \"string\".\\n- `vector_field_name`: The name of the vector field. By default, it is set to \"vector\".\\n- `metric_type`: The metric type to be used for similarity search. By default, it is set to \"IP\".\\n- `auto_id`: Whether to automatically generate IDs for inserted data. By default, it is set to False.\\n- `timeout`: The timeout for the create collection operation. If not provided, it can be left empty.\\n\\nYou can customize these parameters according to your project requirements.'"
      ]
     },
     "execution_count": 10,
     "metadata": {},
     "output_type": "execute_result"
    }
   ],
   "source": [
    "question = \"How can I initialize a Milvus project in Python?\"\n",
    "\n",
    "\n",
    "# Querying your own question and BAMM! \n",
    "\n",
    "\n",
    "result = qa(question) \n",
    "result[\"answer\"]"
   ]
  },
  {
   "cell_type": "code",
   "execution_count": 11,
   "metadata": {},
   "outputs": [],
   "source": [
    "# Same answer is below! 🏄‍♂️"
   ]
  },
  {
   "cell_type": "markdown",
   "metadata": {},
   "source": [
    "## More halucinated answer! \n",
    "\n",
    "To initialize a Milvus project in Python, you can use the `MilvusClient` class from the `pymilvus` library. \n",
    "\n",
    "Here\\'s an example of how to initialize a Milvus project:\n",
    "\n",
    "```python from pymilvus import MilvusClient\n",
    "\n",
    "# Initialize a Milvus client\n",
    "\n",
    "client = MilvusClient(uri=\"http://localhost:19530\", user=\"\", password=\"\", db_name=\"\", token=\"\", timeout=None)\n",
    "\n",
    "# Create a collection\n",
    " \n",
    "client.create_collection(collection_name=\"my_collection\", dimension=128, primary_field_name=\"id\", id_type=\"int\", vector_field_name=\"vector\", metric_type=\"IP\"```\n",
    "\n",
    "In the example above, the `MilvusClient` is initialized with the following parameters:\n",
    "\n",
    "- `uri`: The connection address to the Milvus instance. By default, it is set to \"http://localhost:19530\".\n",
    "- `user`: The username for authentication. If not provided, it can be left empty.\n",
    "- `password`: The password for authentication. If not provided, it can be left empty.\n",
    "- `db_name`: The name of the database to use. If not provided, it can be left empty.\n",
    "- `token`: An authentication token. If not provided, it can be left empty.\n",
    "- `timeout`: The timeout for function calls. If not provided, it is set to `None`.\n",
    "\n",
    "The `create_collection` method is used to create a collection in the Milvus project. It takes the following parameters:\n",
    "- `collection_name`: The name of the collection to create.\n",
    "- `dimension`: The dimension of the vector data to be stored in the collection.\n",
    "- `primary_field_name`: The name of the primary key field. By default, it is set to \"id\".\n",
    "- `id_type`: The type of the primary key field. It can be either \"int\" or \"string\".\n",
    "- `vector_field_name`: The name of the vector field. By default, it is set to \"vector\".\n",
    "- `metric_type`: The metric type to be used for similarity search. By default, it is set to \"IP\".\n",
    "- `auto_id`: Whether to automatically generate IDs for inserted data. By default, it is set to False.\n",
    "- `timeout`: The timeout for the create collection operation. If not provided, it can be left empty.\n",
    "\n",
    "You can customize these parameters according to your project requirements.'"
   ]
  },
  {
   "cell_type": "markdown",
   "metadata": {},
   "source": [
    "---\n",
    "\n",
    "## And this one is sounds more accurate imo\n",
    "\n",
    "'The initialization of a Milvus project in Python can be done by creating an instance of the `MilvusClient` class. \n",
    "\n",
    "Here is an example:\n",
    "\n",
    "```py\n",
    "python from pymilvus import MilvusClient\n",
    "\n",
    "# Initialize the Milvus client\n",
    "\n",
    "client = MilvusClient(uri=\"http://localhost:19530\")\n",
    "\n",
    "# Use the client to perform operations on the Milvus project\n",
    "\n",
    "# For example, create a collection\n",
    "\n",
    "client.create_collection(collection_name=\"my_collection\", dimension=128)```\n",
    "\n",
    "In the example above, the `uri` parameter is used to specify the connection address to the Milvus instance. By default, it is set to \"http://localhost:19530\". You can change it to the appropriate address for your Milvus project. After initializing the client, you can use it to perform various operations on the Milvus project, such as creating collections, inserting data, and querying data.'"
   ]
  },
  {
   "cell_type": "markdown",
   "metadata": {},
   "source": [
    ">Don't forget to give a star to those cool Milvus guys here: https://github.com/milvus-io/milvus"
   ]
  },
  {
   "cell_type": "markdown",
   "metadata": {},
   "source": []
  }
 ],
 "metadata": {
  "kernelspec": {
   "display_name": ".venv",
   "language": "python",
   "name": "python3"
  },
  "language_info": {
   "codemirror_mode": {
    "name": "ipython",
    "version": 3
   },
   "file_extension": ".py",
   "mimetype": "text/x-python",
   "name": "python",
   "nbconvert_exporter": "python",
   "pygments_lexer": "ipython3",
   "version": "3.11.4"
  }
 },
 "nbformat": 4,
 "nbformat_minor": 2
}
